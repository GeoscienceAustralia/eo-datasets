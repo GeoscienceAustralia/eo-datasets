{
 "cells": [
  {
   "cell_type": "code",
   "execution_count": 36,
   "metadata": {
    "collapsed": true
   },
   "outputs": [],
   "source": [
    "\n",
    "from eodatasets3.model import DatasetDoc, ComplicatedNamingConventions, ComplicatedNamingConventionsDerivatives\n",
    "from eodatasets3.properties import StacPropertyView\n",
    "from datetime import datetime\n",
    "import yaml"
   ]
  },
  {
   "cell_type": "code",
   "execution_count": 43,
   "outputs": [
    {
     "data": {
      "text/plain": "{'metadata': {'product_family': 'fc',\n  'producer': 'ga.gov.au',\n  'dataset_version': '2.5.0',\n  'collection_number': 3,\n  'naming_conventions': 'dea_c3'},\n 'properties': {'dea:dataset_maturity': 'interim'}}"
     },
     "execution_count": 43,
     "metadata": {},
     "output_type": "execute_result"
    }
   ],
   "source": [
    "config_options = yaml.safe_load(\"\"\"\n",
    "  metadata:\n",
    "    product_family: fc\n",
    "    producer: ga.gov.au\n",
    "    dataset_version: 2.5.0\n",
    "    collection_number: 3\n",
    "    naming_conventions: dea_c3\n",
    "  properties:\n",
    "    dea:dataset_maturity: interim\n",
    "\"\"\")\n",
    "config_options"
   ],
   "metadata": {
    "collapsed": false,
    "pycharm": {
     "name": "#%%\n"
    }
   }
  },
  {
   "cell_type": "code",
   "execution_count": 28,
   "outputs": [],
   "source": [
    "def make_spv(config):\n",
    "    spv = StacPropertyView(config['properties'] + {\n",
    "        f'odc:{key}': value for key, value in config['metadata'].items()\n",
    "    })"
   ],
   "metadata": {
    "collapsed": false,
    "pycharm": {
     "name": "#%%\n"
    }
   }
  },
  {
   "cell_type": "code",
   "execution_count": 44,
   "outputs": [
    {
     "data": {
      "text/plain": "{'dea:dataset_maturity': 'interim',\n 'odc:product_family': 'fc',\n 'odc:producer': 'ga.gov.au',\n 'odc:dataset_version': '2.5.0',\n 'odc:collection_number': 3,\n 'odc:naming_conventions': 'dea_c3'}"
     },
     "execution_count": 44,
     "metadata": {},
     "output_type": "execute_result"
    }
   ],
   "source": [
    "props = {}\n",
    "props.update(config_options['properties'])\n",
    "props.update ({\n",
    "        f'odc:{key}': value for key, value in config_options['metadata'].items()\n",
    "    })\n",
    "props"
   ],
   "metadata": {
    "collapsed": false,
    "pycharm": {
     "name": "#%%\n"
    }
   }
  },
  {
   "cell_type": "code",
   "execution_count": 46,
   "outputs": [],
   "source": [
    "spv = StacPropertyView(props)"
   ],
   "metadata": {
    "collapsed": false,
    "pycharm": {
     "name": "#%%\n"
    }
   }
  },
  {
   "cell_type": "code",
   "execution_count": 47,
   "outputs": [
    {
     "data": {
      "text/plain": "['dea:dataset_maturity',\n 'odc:product_family',\n 'odc:producer',\n 'odc:dataset_version',\n 'odc:collection_number',\n 'odc:naming_conventions']"
     },
     "execution_count": 47,
     "metadata": {},
     "output_type": "execute_result"
    }
   ],
   "source": [
    "list(spv)\n"
   ],
   "metadata": {
    "collapsed": false,
    "pycharm": {
     "name": "#%%\n"
    }
   }
  },
  {
   "cell_type": "code",
   "execution_count": 34,
   "outputs": [
    {
     "data": {
      "text/plain": "[]"
     },
     "execution_count": 34,
     "metadata": {},
     "output_type": "execute_result"
    }
   ],
   "source": [
    "list(spv.keys())"
   ],
   "metadata": {
    "collapsed": false,
    "pycharm": {
     "name": "#%%\n"
    }
   }
  },
  {
   "cell_type": "code",
   "execution_count": 48,
   "outputs": [
    {
     "data": {
      "text/plain": "DatasetDoc(id=None, label=None, product=None, locations=None, crs=None, geometry=None, grids=None, properties=<eodatasets3.properties.StacPropertyView object at 0x7f02dfd315b0>, measurements=None, accessories=ordereddict(), lineage=ordereddict())"
     },
     "execution_count": 48,
     "metadata": {},
     "output_type": "execute_result"
    }
   ],
   "source": [
    "dd = DatasetDoc(properties=spv)\n",
    "\n",
    "#dd.id = 'hello'\n",
    "#dd.product_family = 'wofs'\n",
    "#dd.datetime = datetime.now()\n",
    "dd"
   ],
   "metadata": {
    "collapsed": false,
    "pycharm": {
     "name": "#%%\n"
    }
   }
  },
  {
   "cell_type": "code",
   "execution_count": 49,
   "outputs": [],
   "source": [
    "cnc = ComplicatedNamingConventionsDerivatives.for_c3_derivatives(dd)"
   ],
   "metadata": {
    "collapsed": false,
    "pycharm": {
     "name": "#%%\n"
    }
   }
  },
  {
   "cell_type": "code",
   "execution_count": 50,
   "outputs": [
    {
     "ename": "ValueError",
     "evalue": "Need more properties to fulfill naming conventions.\n- 'datetime'\n- 'eo:platform'\n- 'odc:processing_datetime' (Time of processing, perhaps datetime.utcnow()?)\n- 'odc:region_code'",
     "output_type": "error",
     "traceback": [
      "\u001B[0;31m---------------------------------------------------------------------------\u001B[0m",
      "\u001B[0;31mValueError\u001B[0m                                Traceback (most recent call last)",
      "\u001B[0;32m<ipython-input-50-e0384f1799df>\u001B[0m in \u001B[0;36m<module>\u001B[0;34m\u001B[0m\n\u001B[0;32m----> 1\u001B[0;31m \u001B[0mcnc\u001B[0m\u001B[0;34m.\u001B[0m\u001B[0mproduct_name\u001B[0m\u001B[0;34m\u001B[0m\u001B[0;34m\u001B[0m\u001B[0m\n\u001B[0m",
      "\u001B[0;32m~/dev/eo-datasets/eodatasets3/model.py\u001B[0m in \u001B[0;36mproduct_name\u001B[0;34m(self)\u001B[0m\n\u001B[1;32m    171\u001B[0m     \u001B[0;34m@\u001B[0m\u001B[0mproperty\u001B[0m\u001B[0;34m\u001B[0m\u001B[0;34m\u001B[0m\u001B[0m\n\u001B[1;32m    172\u001B[0m     \u001B[0;32mdef\u001B[0m \u001B[0mproduct_name\u001B[0m\u001B[0;34m(\u001B[0m\u001B[0mself\u001B[0m\u001B[0;34m)\u001B[0m \u001B[0;34m->\u001B[0m \u001B[0mstr\u001B[0m\u001B[0;34m:\u001B[0m\u001B[0;34m\u001B[0m\u001B[0;34m\u001B[0m\u001B[0m\n\u001B[0;32m--> 173\u001B[0;31m         \u001B[0mself\u001B[0m\u001B[0;34m.\u001B[0m\u001B[0m_check_enough_properties_to_name\u001B[0m\u001B[0;34m(\u001B[0m\u001B[0;34m)\u001B[0m\u001B[0;34m\u001B[0m\u001B[0;34m\u001B[0m\u001B[0m\n\u001B[0m\u001B[1;32m    174\u001B[0m \u001B[0;34m\u001B[0m\u001B[0m\n\u001B[1;32m    175\u001B[0m         \u001B[0morg_number\u001B[0m \u001B[0;34m=\u001B[0m \u001B[0mself\u001B[0m\u001B[0;34m.\u001B[0m\u001B[0m_org_collection_number\u001B[0m\u001B[0;34m\u001B[0m\u001B[0;34m\u001B[0m\u001B[0m\n",
      "\u001B[0;32m~/dev/eo-datasets/eodatasets3/model.py\u001B[0m in \u001B[0;36m_check_enough_properties_to_name\u001B[0;34m(self)\u001B[0m\n\u001B[1;32m    164\u001B[0m                 \u001B[0mexamples\u001B[0m\u001B[0;34m.\u001B[0m\u001B[0mappend\u001B[0m\u001B[0;34m(\u001B[0m\u001B[0;34mf\"\\n- {p!r}{hint}\"\u001B[0m\u001B[0;34m)\u001B[0m\u001B[0;34m\u001B[0m\u001B[0;34m\u001B[0m\u001B[0m\n\u001B[1;32m    165\u001B[0m \u001B[0;34m\u001B[0m\u001B[0m\n\u001B[0;32m--> 166\u001B[0;31m             raise ValueError(\n\u001B[0m\u001B[1;32m    167\u001B[0m                 \u001B[0;34mf\"Need more properties to fulfill naming conventions.\"\u001B[0m\u001B[0;34m\u001B[0m\u001B[0;34m\u001B[0m\u001B[0m\n\u001B[1;32m    168\u001B[0m                 \u001B[0;34mf\"{''.join(examples)}\"\u001B[0m\u001B[0;34m\u001B[0m\u001B[0;34m\u001B[0m\u001B[0m\n",
      "\u001B[0;31mValueError\u001B[0m: Need more properties to fulfill naming conventions.\n- 'datetime'\n- 'eo:platform'\n- 'odc:processing_datetime' (Time of processing, perhaps datetime.utcnow()?)\n- 'odc:region_code'"
     ]
    }
   ],
   "source": [
    "cnc.product_name"
   ],
   "metadata": {
    "collapsed": false,
    "pycharm": {
     "name": "#%%\n"
    }
   }
  },
  {
   "cell_type": "code",
   "execution_count": null,
   "outputs": [],
   "source": [],
   "metadata": {
    "collapsed": false,
    "pycharm": {
     "name": "#%%\n"
    }
   }
  }
 ],
 "metadata": {
  "kernelspec": {
   "display_name": "Python 3",
   "language": "python",
   "name": "python3"
  },
  "language_info": {
   "codemirror_mode": {
    "name": "ipython",
    "version": 2
   },
   "file_extension": ".py",
   "mimetype": "text/x-python",
   "name": "python",
   "nbconvert_exporter": "python",
   "pygments_lexer": "ipython2",
   "version": "2.7.6"
  }
 },
 "nbformat": 4,
 "nbformat_minor": 0
}